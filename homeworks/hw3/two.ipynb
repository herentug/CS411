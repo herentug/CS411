{
 "cells": [
  {
   "cell_type": "code",
   "execution_count": 1,
   "metadata": {},
   "outputs": [
    {
     "name": "stdout",
     "output_type": "stream",
     "text": [
      "This is how you compute one link in the hash chain\n",
      "pwd(i) --> pwd(i+1):  OO,XR. --> CNTH,Y\n",
      "The test passed:)\n",
      "\\The mission is to find six-character passwords that correspond to these digests:\n",
      "\n",
      "[100245009005103267899033614526941913880246373596564823340949840790844809103119, 19975499931938919928595451537096181331883854568747045850221901234691104582098, 113755495174055610876492464753048312831115306302701553827210127388606508241384, 91716148188179664717616297774779369080831030621153106066937072640936294082436, 114327333148588727761456040560697699459972533926123848855642209266882904981056, 114092167432998812840496186716627935081797792706490494942204367130254495731666, 38281036052010144447899334632289647459864065649722502224373489543446886678643, 44545357949490023150618582332141371853866888964826995324110314901909474805088, 38048259072653533075550911757874348323176766191918852427444568385091382449858, 35430391149852444211048461076529046528250550719267058178400921942117732723330]\n"
     ]
    }
   ],
   "source": [
    "import random\n",
    "from Crypto.Hash import SHA256\n",
    "from Crypto import Random\n",
    "import json\n",
    "\n",
    "def Reduction(x, Alphabet, length):\n",
    "  pwd = \"\"\n",
    "  t = x\n",
    "  size = len(Alphabet)\n",
    "  for j in range(0,length):\n",
    "    pwd += Alphabet[t%size]\n",
    "    t = t//size\n",
    "  return pwd  \n",
    "\n",
    "Alphabet = {0:'A', 1:'B', 2:'C', 3:'D', 4:'E', 5:'F', 6:'G', 7:'H', 8:'I', 9:'J', 10:'K', 11:'L', 12:'M', 13:'N', 14:'O', 15:'P', 16:'Q', 17:'R', 18:'S', 19:'T', 20:'U', 21:'V', 22:'W', 23:'X', 24:'Y', 25:'Z', 26:'.', 27:',', 28:'!', 29:'?'}\n",
    "alpha_len = len(Alphabet)\n",
    "pwd_len = 6\n",
    "pwd_space = alpha_len**pwd_len \n",
    "t = 2**16\n",
    "m = 2*(pwd_space//t)\n",
    "# Example for computing one link in the chain; i.e., pwd(i+1) = R(H(pwd(i)))\n",
    "print(\"This is how you compute one link in the hash chain\")\n",
    "pwd_i = \"OO,XR.\" # a sample password\n",
    "hash = SHA256.new(pwd_i.encode('utf-8')) # hash it\n",
    "digest = int.from_bytes(hash.digest(), byteorder='big') # convert the hash into an integer\n",
    "pwd_i1 = Reduction(digest%pwd_space, Alphabet, pwd_len) # Reduce it\n",
    "print(\"pwd(i) --> pwd(i+1): \", pwd_i, \"-->\",pwd_i1)\n",
    " \n",
    "# Read the rainbow table\n",
    "f = open(\"rainbowtable.txt\",\"r\")\n",
    "Rainbow_Table = json.loads(f.read())\n",
    "f.close()\n",
    "\n",
    "# Check one link in the rainbow table\n",
    "# Testing again\n",
    "pwd = Rainbow_Table[0][0] # first password in the hash chain\n",
    "for i in range(0, t):\n",
    "  hash = SHA256.new(pwd.encode('utf-8')) # hash it\n",
    "  digest = int.from_bytes(hash.digest(), byteorder='big') # convert the hash into an integer\n",
    "  pwd = Reduction(digest%pwd_space, Alphabet, pwd_len) # Reduce it\n",
    "if pwd == Rainbow_Table[0][1]:\n",
    "  print(\"The test passed:)\")\n",
    "else:\n",
    "  print(\"The test failed:(\")\n",
    "  \n",
    "\n",
    "# Digests\n",
    "digest = [0]*10\n",
    "digest[0] = 100245009005103267899033614526941913880246373596564823340949840790844809103119\n",
    "digest[1] = 19975499931938919928595451537096181331883854568747045850221901234691104582098\n",
    "digest[2] = 113755495174055610876492464753048312831115306302701553827210127388606508241384\n",
    "digest[3] = 91716148188179664717616297774779369080831030621153106066937072640936294082436\n",
    "digest[4] = 114327333148588727761456040560697699459972533926123848855642209266882904981056\n",
    "digest[5] = 114092167432998812840496186716627935081797792706490494942204367130254495731666\n",
    "digest[6] = 38281036052010144447899334632289647459864065649722502224373489543446886678643\n",
    "digest[7] = 44545357949490023150618582332141371853866888964826995324110314901909474805088\n",
    "digest[8] = 38048259072653533075550911757874348323176766191918852427444568385091382449858\n",
    "digest[9] = 35430391149852444211048461076529046528250550719267058178400921942117732723330\n",
    "\n",
    "print(\"\\The mission is to find six-character passwords that correspond to these digests:\\n\")\n",
    "print(digest)"
   ]
  },
  {
   "cell_type": "code",
   "execution_count": 11,
   "metadata": {},
   "outputs": [
    {
     "name": "stdout",
     "output_type": "stream",
     "text": [
      "digest[0]= RSURBK\n",
      "digest[1] case2...\n",
      "digest[1] KJMB?D\n",
      "digest[2] case2...\n",
      "digest[2] LHBTKY\n",
      "digest[3] case2...\n",
      "digest[3] DQNQMO\n",
      "digest[3] ,PRRHR\n",
      "digest[4]= YQLLZB\n",
      "digest[5] case2...\n",
      "digest[5] UPYC!L\n",
      "digest[6] case2...\n",
      "digest[6] EA?!WT\n",
      "digest[7] case2...\n",
      "digest[7] !BURIB\n",
      "digest[8]= EOAFLL\n",
      "digest[9]= TVGH.O\n"
     ]
    }
   ],
   "source": [
    "def case2(k,i):\n",
    "    \n",
    "\n",
    "def passwordWriter(x,k):\n",
    "    \n",
    "    \n",
    "    \n",
    "for k in range(0,10):\n",
    "    x = Reduction(digest[k] % pwd_space, Alphabet, pwd_len)  \n",
    "    for i in range(0, len(Rainbow_Table)):      \n",
    "        if(i != len(Rainbow_Table) - 1):\n",
    "            if x == Rainbow_Table[i][1]:\n",
    "                print(\"digest[\" + str(k) +  \"]= \" + Rainbow_Table[i][0])\n",
    "                break\n",
    "        else:        # to be sure that there is no out of range error\n",
    "            if x == Rainbow_Table[len(Rainbow_Table) - 1][1]:\n",
    "                print(\"The password for digest[\" + str(k) + \"]= \" + Rainbow_Table[len(Rainbow_Table) - 1][0])\n",
    "                break\n",
    "            else:            # case 2 starts here if case1 fails to find the password\n",
    "                print(\"digest[\" + str(k)  + \"] case2...\")\n",
    "                bool = 0\n",
    "                digest_d = digest[k]\n",
    "                while bool== 0:\n",
    "                    x2 = Reduction(digest_d % pwd_space, Alphabet, pwd_len)\n",
    "                    hash = SHA256.new(x2.encode('utf-8'))  # hash it\n",
    "                    digest_d = int.from_bytes(hash.digest(), byteorder='big')  # convert the hash into an integer\n",
    "                    x2 = Reduction(digest_d % pwd_space, Alphabet, pwd_len)  # Reduce it\n",
    "                    for i in range(0, len(Rainbow_Table)):\n",
    "                        if x2 == Rainbow_Table[i][1]:\n",
    "                            print(\"digest[\" + str(k) + \"] \" + Rainbow_Table[i][0])\n",
    "                            bool = 1\n",
    "                break"
   ]
  },
  {
   "cell_type": "code",
   "execution_count": null,
   "metadata": {},
   "outputs": [],
   "source": []
  }
 ],
 "metadata": {
  "kernelspec": {
   "display_name": "Python 3",
   "language": "python",
   "name": "python3"
  },
  "language_info": {
   "codemirror_mode": {
    "name": "ipython",
    "version": 3
   },
   "file_extension": ".py",
   "mimetype": "text/x-python",
   "name": "python",
   "nbconvert_exporter": "python",
   "pygments_lexer": "ipython3",
   "version": "3.6.8"
  }
 },
 "nbformat": 4,
 "nbformat_minor": 2
}
