{
 "cells": [
  {
   "cell_type": "code",
   "execution_count": 3,
   "metadata": {},
   "outputs": [],
   "source": [
    "import math\n",
    "from typing import Any\n",
    "\n",
    "z = [0]*61\n",
    "f = 1\n",
    "\n",
    "\n",
    "possible_numbers=[0]*16\n",
    "for i in range(0, 61):\n",
    "    for j in range(0, 61):\n",
    "        k = pow(i, j) % 61\n",
    "        z[k] += 1\n",
    "    counter = 0\n",
    "    for k in range(1, 61):\n",
    "        if z[k] != 0:\n",
    "            counter += 1\n",
    "    if counter == 60:\n",
    "        possible_numbers.append(i)\n",
    "    z=[0]*61"
   ]
  },
  {
   "cell_type": "code",
   "execution_count": 7,
   "metadata": {},
   "outputs": [
    {
     "data": {
      "text/plain": [
       "[2, 6, 7, 10, 17, 18, 26, 30, 31, 35, 43, 44, 51, 54, 55]"
      ]
     },
     "execution_count": 7,
     "metadata": {},
     "output_type": "execute_result"
    }
   ],
   "source": [
    "possible_numbers[-16:-1]"
   ]
  },
  {
   "cell_type": "code",
   "execution_count": 14,
   "metadata": {},
   "outputs": [],
   "source": [
    "[w,h]=[60,60]\n",
    "\n",
    "m = [[0 for x in range(w)] for y in range(h)]\n",
    "for i in range(0,60):\n",
    "    for j in range (0,60):\n",
    "        m[i][j]=((i+1)*(j+1)) % 61"
   ]
  },
  {
   "cell_type": "code",
   "execution_count": 15,
   "metadata": {},
   "outputs": [
    {
     "name": "stdout",
     "output_type": "stream",
     "text": [
      "9\n",
      "20\n",
      "34\n",
      "58\n"
     ]
    }
   ],
   "source": [
    "for i in range (0,60):\n",
    "    z=m[0][i]\n",
    "    k=z\n",
    "    count=1\n",
    "    while(k!=1):\n",
    "        k=m[k-1][i]\n",
    "        count+=1\n",
    "    if count==5:\n",
    "        print(i+1)"
   ]
  },
  {
   "cell_type": "code",
   "execution_count": null,
   "metadata": {},
   "outputs": [],
   "source": []
  },
  {
   "cell_type": "code",
   "execution_count": null,
   "metadata": {},
   "outputs": [],
   "source": []
  }
 ],
 "metadata": {
  "kernelspec": {
   "display_name": "Python 3",
   "language": "python",
   "name": "python3"
  },
  "language_info": {
   "codemirror_mode": {
    "name": "ipython",
    "version": 3
   },
   "file_extension": ".py",
   "mimetype": "text/x-python",
   "name": "python",
   "nbconvert_exporter": "python",
   "pygments_lexer": "ipython3",
   "version": "3.6.8"
  }
 },
 "nbformat": 4,
 "nbformat_minor": 2
}
