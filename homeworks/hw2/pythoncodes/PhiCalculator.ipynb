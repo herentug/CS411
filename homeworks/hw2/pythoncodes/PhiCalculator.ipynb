{
 "cells": [
  {
   "cell_type": "code",
   "execution_count": 1,
   "metadata": {},
   "outputs": [],
   "source": [
    "import math\n",
    "import random\n"
   ]
  },
  {
   "cell_type": "code",
   "execution_count": 2,
   "metadata": {},
   "outputs": [],
   "source": [
    "def phi(n):\n",
    "    amount = 0\n",
    "    for k in range(1, n + 1):\n",
    "        if math.gcd(n, k) == 1:\n",
    "            amount += 1\n",
    "    return amount\n"
   ]
  },
  {
   "cell_type": "code",
   "execution_count": 3,
   "metadata": {},
   "outputs": [],
   "source": [
    "def modinv(a, m):\n",
    "    gcd, x, y = egcd(a, m)\n",
    "    if gcd != 1:\n",
    "        return None  # modular inverse does not exist\n",
    "    else:\n",
    "        return x % m"
   ]
  },
  {
   "cell_type": "code",
   "execution_count": 4,
   "metadata": {},
   "outputs": [],
   "source": [
    "\n",
    "def gcd(a, b):\n",
    "    while b:\n",
    "        a, b = b, a%b\n",
    "    return a"
   ]
  },
  {
   "cell_type": "code",
   "execution_count": 5,
   "metadata": {},
   "outputs": [],
   "source": [
    "def egcd(a, b):\n",
    "    x,y, u,v = 0,1, 1,0\n",
    "    while a != 0:\n",
    "        q, r = b//a, b%a\n",
    "        m, n = x-u*q, y-v*q\n",
    "        b,a, x,y, u,v = a,r, u,v, m,n\n",
    "    gcd = b\n",
    "    return gcd, x, y\n"
   ]
  },
  {
   "cell_type": "code",
   "execution_count": 7,
   "metadata": {},
   "outputs": [
    {
     "name": "stdout",
     "output_type": "stream",
     "text": [
      "1\n",
      "\n",
      "17780486146994356390536698036064157558306067628911641314354623865206367540771264269376489317932941129613874729594828696361809009003718595069818719707531861843667554232045010862980569632311263598996529228578729062647856589914115371678446914411535684158634995069502339626673711631508561804630291588176843797867\n",
      "\n",
      "30256242323116471143377579036851734956599566784957808777900084159344311403348077243305468893900944356797865493742870723640786398026030923177760147308711037452403389422258824881485692843121042180280211955250327896263032672055294111900141070981523217773015658586930923177732713966172972763510074059270940820416\n"
     ]
    }
   ],
   "source": [
    "\n",
    "p =5527064775949971276700546474393760569152256071781455112554572252477078482817219303694924773296938028736900310336193124455858291501008953781025760084204617\n",
    "q =10263715010889663011237581846368625560721472564413404816414563312121711111200512062338133630430698017953660509772503749526855821347556114413740814256720609\n",
    "n=p*q\n",
    "c= 6016447327565519594114000681088119027251827426178525282923410539353402986195693266732998286093991346837854685945523958512316911535914428131590560765331415513592957120361162167163223354643895818554169459592360948153053758601978139504376688619229954806515113869761029037549195053798048200751500102605855423415\n",
    "e = 67\n",
    "\n",
    "k=gcd(c,n)\n",
    "\n",
    "phi=(p-1)*(q-1)\n",
    "d=modinv(67,phi)\n",
    "\n",
    "print(k)\n",
    "print()\n",
    "print(d)\n",
    "print()\n",
    "print(pow(c,d,n))"
   ]
  },
  {
   "cell_type": "code",
   "execution_count": null,
   "metadata": {},
   "outputs": [],
   "source": []
  }
 ],
 "metadata": {
  "kernelspec": {
   "display_name": "Python 3",
   "language": "python",
   "name": "python3"
  },
  "language_info": {
   "codemirror_mode": {
    "name": "ipython",
    "version": 3
   },
   "file_extension": ".py",
   "mimetype": "text/x-python",
   "name": "python",
   "nbconvert_exporter": "python",
   "pygments_lexer": "ipython3",
   "version": "3.6.8"
  }
 },
 "nbformat": 4,
 "nbformat_minor": 2
}
