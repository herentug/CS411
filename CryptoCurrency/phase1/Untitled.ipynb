{
 "cells": [
  {
   "cell_type": "code",
   "execution_count": 40,
   "metadata": {},
   "outputs": [],
   "source": [
    "import math\n",
    "import random\n",
    "import string\n",
    "import warnings\n",
    "import sympy\n",
    "import DS       # This is the file from Phase I\n",
    "import Tx       # This is the first file you have to submit in the second phase \n",
    "     # This is the second file you have to submit in the second phase \n",
    "import os.path\n",
    "import sys\n",
    "\n",
    "from Crypto.Hash import SHA3_256"
   ]
  },
  {
   "cell_type": "code",
   "execution_count": 45,
   "metadata": {},
   "outputs": [],
   "source": [
    "import DS\n",
    "\n",
    "\n",
    "def hash(message):\n",
    "\th_obj = SHA3_256.new()\n",
    "\th_obj.update(message)\n",
    "\th = h_obj.digest()\n",
    "\treturn h"
   ]
  },
  {
   "cell_type": "code",
   "execution_count": 46,
   "metadata": {},
   "outputs": [
    {
     "name": "stdout",
     "output_type": "stream",
     "text": [
      "277157211575692414559330522236021589363\n"
     ]
    }
   ],
   "source": [
    "f = open(\"block_sample.txt\", \"r\")\n",
    "tx_block = f.readlines()\n",
    "f.close()\n",
    "print(tx_block[-1][7:-1])\n",
    "\n",
    "\n",
    "tree=[\"\"]*128"
   ]
  },
  {
   "cell_type": "code",
   "execution_count": 49,
   "metadata": {},
   "outputs": [],
   "source": [
    "for i in range(0,64):\n",
    "    tree[i+64] = hash((\"\".join(tx_block[i*7: i*7+7]).encode(\"utf-8\")))"
   ]
  },
  {
   "cell_type": "code",
   "execution_count": 50,
   "metadata": {},
   "outputs": [],
   "source": [
    "for i in range(63,0,-1):\n",
    "    tree[i] = hash(tree[(2*i)]+tree[(2*i)+1])"
   ]
  },
  {
   "cell_type": "code",
   "execution_count": 59,
   "metadata": {},
   "outputs": [
    {
     "data": {
      "text/plain": [
       "'Nonce: 277157211575692414559330522236021589363\\n'"
      ]
     },
     "execution_count": 59,
     "metadata": {},
     "output_type": "execute_result"
    }
   ],
   "source": [
    "tx_block[-1]"
   ]
  },
  {
   "cell_type": "code",
   "execution_count": 56,
   "metadata": {},
   "outputs": [],
   "source": [
    "h_obj = SHA3_256.new()\n",
    "h_obj.update((H_r + (str(277157211575692414559330522236021589363)+'\\n').encode('UTF-8')))\n",
    "h = h_obj.hexdigest()\n",
    "\n",
    "digest = h"
   ]
  },
  {
   "cell_type": "code",
   "execution_count": 57,
   "metadata": {},
   "outputs": [
    {
     "data": {
      "text/plain": [
       "'000006a5a2a3cfae49f6cdfdafcb11d0a6995bf6acf9cefedf986aedbac10924'"
      ]
     },
     "execution_count": 57,
     "metadata": {},
     "output_type": "execute_result"
    }
   ],
   "source": [
    "digest"
   ]
  },
  {
   "cell_type": "markdown",
   "metadata": {},
   "source": []
  },
  {
   "cell_type": "code",
   "execution_count": null,
   "metadata": {},
   "outputs": [],
   "source": []
  },
  {
   "cell_type": "code",
   "execution_count": null,
   "metadata": {},
   "outputs": [],
   "source": []
  }
 ],
 "metadata": {
  "kernelspec": {
   "display_name": "Python 3",
   "language": "python",
   "name": "python3"
  },
  "language_info": {
   "codemirror_mode": {
    "name": "ipython",
    "version": 3
   },
   "file_extension": ".py",
   "mimetype": "text/x-python",
   "name": "python",
   "nbconvert_exporter": "python",
   "pygments_lexer": "ipython3",
   "version": "3.6.8"
  }
 },
 "nbformat": 4,
 "nbformat_minor": 2
}
